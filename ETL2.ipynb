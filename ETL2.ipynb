{
 "cells": [
  {
   "cell_type": "code",
   "execution_count": 1,
   "metadata": {
    "editable": true
   },
   "outputs": [],
   "source": [
    "import configparser\n",
    "from datetime import datetime\n",
    "import os\n",
    "from pyspark.sql import SparkSession\n",
    "from pyspark.sql.functions import udf, col\n",
    "from pyspark.sql.functions import year, month, dayofmonth, hour, weekofyear, date_format"
   ]
  },
  {
   "cell_type": "code",
   "execution_count": 2,
   "metadata": {
    "editable": true
   },
   "outputs": [],
   "source": [
    "config = configparser.ConfigParser()\n",
    "config.read('dl.cfg')\n",
    "\n",
    "os.environ['AWS_ACCESS_KEY_ID']=config['KEYS']['AWS_ACCESS_KEY_ID']\n",
    "os.environ['AWS_SECRET_ACCESS_KEY']=config['KEYS']['AWS_SECRET_ACCESS_KEY']\n"
   ]
  },
  {
   "cell_type": "code",
   "execution_count": 3,
   "metadata": {
    "editable": true
   },
   "outputs": [],
   "source": [
    "def create_spark_session():\n",
    "    spark = SparkSession \\\n",
    "        .builder \\\n",
    "        .config(\"spark.jars.packages\", \"org.apache.hadoop:hadoop-aws:2.7.0\") \\\n",
    "        .getOrCreate()\n",
    "    return spark"
   ]
  },
  {
   "cell_type": "code",
   "execution_count": 4,
   "metadata": {
    "editable": true
   },
   "outputs": [],
   "source": [
    "def process_song_data(spark, input_data, output_data):\n",
    "    \"\"\"\n",
    "    The function of process_song_data majorly loads song_data_table from S3, generate two tables \n",
    "    as below, and write tables back to S3.\n",
    "    (1)songs_table\n",
    "    (2)artists_table\n",
    "    \"\"\"\n",
    "    # get filepath to song data file\n",
    "    song_data = input_data + 'song_data/A/A/A/*.json'\n",
    "    # read song data file\n",
    "    df = spark.read.json(song_data)\n",
    "    df.createOrReplaceTempView(\"song_data_table\")#\n",
    "    # extract columns to create songs table\n",
    "    songs_table = spark.sql(\"\"\"\n",
    "                            SELECT sdtn.song_id, \n",
    "                            sdtn.title,\n",
    "                            sdtn.artist_id,\n",
    "                            sdtn.year,\n",
    "                            sdtn.duration\n",
    "                            FROM song_data_table sdtn\n",
    "                            WHERE song_id IS NOT NULL\n",
    "                        \"\"\")\n",
    "    \n",
    "    # write songs table to parquet files partitioned by year and artist\n",
    "    songs_table.write.mode('overwrite').\\\n",
    "        partitionBy(\"year\",\"artist_id\").\\\n",
    "        parquet(output_data+'songs_table/')\n",
    "    # extract columns to create artists table\n",
    "    artists_table = spark.sql(\"\"\"\n",
    "                                SELECT DISTINCT arti.artist_id, \n",
    "                                arti.artist_name,\n",
    "                                arti.artist_location,\n",
    "                                arti.artist_latitude,\n",
    "                                arti.artist_longitude\n",
    "                                FROM song_data_table arti\n",
    "                                WHERE arti.artist_id IS NOT NULL\n",
    "                            \"\"\")\n",
    "    \n",
    "    # write artists table to parquet files\n",
    "    artists_table.write.mode('overwrite').parquet(output_data+'artists_table/')"
   ]
  },
  {
   "cell_type": "code",
   "execution_count": 5,
   "metadata": {
    "editable": true
   },
   "outputs": [],
   "source": [
    "def process_log_data(spark, input_data, output_data):\n",
    "    \"\"\"\n",
    "    The function of process_log_data majorly do two tasks:\n",
    "        (1)loads log_data_table from S3 and extracts two tables, time_table and artists_table, and \n",
    "        then loads back to S3. \n",
    "        (2)Read output, songs_table, from the function,process_song_data, is used in by \n",
    "        spark.read.json command.   \n",
    "    \"\"\"\n",
    "    # get filepath to log data file\n",
    "    log_data = input_data + 'log_data/*/*/*.json'\n",
    "    # read log data file\n",
    "    df = spark.read.json(log_data)\n",
    "    \n",
    "    # filter by actions for song plays\n",
    "    df = df.filter(df.page == 'NextSong')\n",
    "    df.createOrReplaceTempView(\"log_data_table\")#\n",
    "    # extract columns for users table    \n",
    "    artists_table = spark.sql(\"\"\"\n",
    "                            SELECT DISTINCT userT.userId as user_id, \n",
    "                            userT.firstName as first_name,\n",
    "                            userT.lastName as last_name,\n",
    "                            userT.gender as gender,\n",
    "                            userT.level as level\n",
    "                            FROM log_data_table userT\n",
    "                            WHERE userT.userId IS NOT NULL\n",
    "                        \"\"\")\n",
    "    \n",
    "    # write users table to parquet files\n",
    "    artists_table.write.mode('overwrite').parquet(output_data+'artists_table/')\n",
    "    # create timestamp column from original timestamp column\n",
    "    #get_timestamp = udf()\n",
    "    #df = \n",
    "    \n",
    "    # create datetime column from original timestamp column\n",
    "    #get_datetime = udf()\n",
    "    #df = \n",
    "    \n",
    "    # extract columns to create time table\n",
    "    time_table = spark.sql(\"\"\"\n",
    "                            SELECT \n",
    "                            A.start_time_sub as start_time,\n",
    "                            hour(A.start_time_sub) as hour,\n",
    "                            dayofmonth(A.start_time_sub) as day,\n",
    "                            weekofyear(A.start_time_sub) as week,\n",
    "                            month(A.start_time_sub) as month,\n",
    "                            year(A.start_time_sub) as year,\n",
    "                            dayofweek(A.start_time_sub) as weekday\n",
    "                            FROM\n",
    "                            (SELECT to_timestamp(timeSt.ts/1000) as start_time_sub\n",
    "                            FROM log_data_table timeSt\n",
    "                            WHERE timeSt.ts IS NOT NULL\n",
    "                            ) A\n",
    "                        \"\"\")\n",
    "    \n",
    "    # write time table to parquet files partitioned by year and month\n",
    "    time_table.write.mode('overwrite').partitionBy(\"year\", \"month\").parquet(output_data+'time_table/')\n",
    "    # read in song data to use for songplays table\n",
    "    song_df = spark.read.parquet(output_data+'songs_table/')\n",
    "    # extract columns from joined song and log datasets to create songplays table \n",
    "    songplays_table = spark.sql(\"\"\"\n",
    "                                SELECT monotonically_increasing_id() as songplay_id,\n",
    "                                to_timestamp(logT.ts/1000) as start_time,\n",
    "                                month(to_timestamp(logT.ts/1000)) as month,\n",
    "                                year(to_timestamp(logT.ts/1000)) as year,\n",
    "                                logT.userId as user_id,\n",
    "                                logT.level as level,\n",
    "                                songT.song_id as song_id,\n",
    "                                songT.artist_id as artist_id,\n",
    "                                logT.sessionId as session_id,\n",
    "                                logT.location as location,\n",
    "                                logT.userAgent as user_agent\n",
    "                                FROM log_data_table logT\n",
    "                                JOIN song_data_table songT on logT.artist = songT.artist_name and logT.song = songT.title\n",
    "                            \"\"\")\n",
    "    # write songplays table to parquet files partitioned by year and month\n",
    "    songplays_table.write.mode('overwrite').partitionBy(\"year\", \"month\").parquet(output_data+'songplays_table/')"
   ]
  },
  {
   "cell_type": "code",
   "execution_count": 6,
   "metadata": {
    "editable": true
   },
   "outputs": [
    {
     "name": "stdout",
     "output_type": "stream",
     "text": [
      "Success\n"
     ]
    }
   ],
   "source": [
    "def main():\n",
    "    spark = create_spark_session()\n",
    "    input_data = \"s3a://udacity-dend/\"\n",
    "    output_data = \"./Results/\"\n",
    "    \n",
    "    process_song_data(spark, input_data, output_data)    \n",
    "    process_log_data(spark, input_data, output_data)\n",
    "    spark.stop()\n",
    "    print('Success')\n",
    "if __name__ == \"__main__\":\n",
    "    main()"
   ]
  },
  {
   "cell_type": "code",
   "execution_count": null,
   "metadata": {
    "editable": true
   },
   "outputs": [],
   "source": []
  }
 ],
 "metadata": {
  "kernelspec": {
   "display_name": "Python 3",
   "language": "python",
   "name": "python3"
  },
  "language_info": {
   "codemirror_mode": {
    "name": "ipython",
    "version": 3
   },
   "file_extension": ".py",
   "mimetype": "text/x-python",
   "name": "python",
   "nbconvert_exporter": "python",
   "pygments_lexer": "ipython3",
   "version": "3.6.3"
  }
 },
 "nbformat": 4,
 "nbformat_minor": 4
}
